{
 "cells": [
  {
   "cell_type": "markdown",
   "id": "3a4df227",
   "metadata": {},
   "source": [
    "# Similarity search for motif mining"
   ]
  },
  {
   "cell_type": "markdown",
   "id": "5d29b79c",
   "metadata": {},
   "source": [
    "In this tutorial, we demonstrate how to utilize the similarity functionality to discover images with similar motifs from a collection of Reddit images. We employ the classic `SIFT` feature to identify images with a strikingly similar appearance (image-level pipeline).\n",
    "\n",
    "Additionally, we extend the pipeline by incorporating an object detection model, `YOLO`, in combination with the SIFT feature. This enables us to identify objects within the images that exhibit a similar appearance (object-level similarity).\n",
    "\n",
    "To illustrate the seamless integration of different vector stores, we leverage the power of multiple vector stores, namely `FAISS` and `QDRANT`, within evadb. This demonstrates the ease with which you can utilize diverse vector stores to construct indexes, enhancing your similarity search experience."
   ]
  },
  {
   "cell_type": "markdown",
   "id": "e6df3057",
   "metadata": {},
   "source": [
    "<table align=\"left\">\n",
    "  <td>\n",
    "    <a target=\"_blank\" href=\"https://colab.research.google.com/github/georgia-tech-db/eva/blob/master/tutorials/11-similarity-search-for-motif-mining.ipynb\"><img src=\"https://www.tensorflow.org/images/colab_logo_32px.png\" /> Run on Google Colab</a>\n",
    "  </td>\n",
    "  <td>\n",
    "    <a target=\"_blank\" href=\"https://github.com/georgia-tech-db/eva/blob/master/tutorials/11-similarity-search-for-motif-mining.ipynb\"><img src=\"https://www.tensorflow.org/images/GitHub-Mark-32px.png\" /> View source on GitHub</a>\n",
    "  </td>\n",
    "  <td>\n",
    "    <a target=\"_blank\" href=\"https://github.com/georgia-tech-db/eva/raw/master/tutorials/11-similarity-search-for-motif-mining.ipynb\"><img src=\"https://www.tensorflow.org/images/download_logo_32px.png\" /> Download notebook</a>\n",
    "  </td>\n",
    "</table><br><br>"
   ]
  },
  {
   "cell_type": "markdown",
   "id": "50b1674e",
   "metadata": {},
   "source": [
    "### Connect to EvaDB\n"
   ]
  },
  {
   "cell_type": "code",
   "execution_count": 2,
   "id": "aa5181dc",
   "metadata": {},
   "outputs": [
    {
     "name": "stdout",
     "output_type": "stream",
     "text": [
      "Note: you may need to restart the kernel to use updated packages.\n",
      "Note: you may need to restart the kernel to use updated packages.\n"
     ]
    }
   ],
   "source": [
    "%pip install --quiet \"evadb[vision,document,notebook]\"\n",
    "%pip install --quiet kornia qdrant_client"
   ]
  },
  {
   "cell_type": "code",
   "execution_count": 1,
   "id": "5c518c23",
   "metadata": {},
   "outputs": [],
   "source": [
    "import evadb\n",
    "cursor = evadb.connect().cursor()\n",
    "import warnings\n",
    "warnings.filterwarnings(\"ignore\")"
   ]
  },
  {
   "cell_type": "markdown",
   "id": "cc9f4144",
   "metadata": {},
   "source": [
    "### Download reddit dataset"
   ]
  },
  {
   "cell_type": "code",
   "execution_count": null,
   "id": "527ec1b6",
   "metadata": {},
   "outputs": [],
   "source": [
    "!wget -nc https://www.dropbox.com/scl/fo/fcj6ojmii0gw92zg3jb2s/h\\?dl\\=1\\&rlkey\\=j3kj1ox4yn5fhonw06v0pn7r9 -O reddit-images.zip\n",
    "!unzip -o reddit-images.zip -d reddit-images"
   ]
  },
  {
   "cell_type": "markdown",
   "id": "0d8c9917",
   "metadata": {},
   "source": [
    "### Load all images into evadb"
   ]
  },
  {
   "cell_type": "code",
   "execution_count": 2,
   "id": "3b9bca7b",
   "metadata": {},
   "outputs": [
    {
     "data": {
      "text/html": [
       "<div>\n",
       "<style scoped>\n",
       "    .dataframe tbody tr th:only-of-type {\n",
       "        vertical-align: middle;\n",
       "    }\n",
       "\n",
       "    .dataframe tbody tr th {\n",
       "        vertical-align: top;\n",
       "    }\n",
       "\n",
       "    .dataframe thead th {\n",
       "        text-align: right;\n",
       "    }\n",
       "</style>\n",
       "<table border=\"1\" class=\"dataframe\">\n",
       "  <thead>\n",
       "    <tr style=\"text-align: right;\">\n",
       "      <th></th>\n",
       "      <th>0</th>\n",
       "    </tr>\n",
       "  </thead>\n",
       "  <tbody>\n",
       "    <tr>\n",
       "      <th>0</th>\n",
       "      <td>Number of loaded IMAGE: 34</td>\n",
       "    </tr>\n",
       "  </tbody>\n",
       "</table>\n",
       "</div>"
      ],
      "text/plain": [
       "                            0\n",
       "0  Number of loaded IMAGE: 34"
      ]
     },
     "execution_count": 2,
     "metadata": {},
     "output_type": "execute_result"
    }
   ],
   "source": [
    "cursor.query(\"DROP TABLE IF EXISTS reddit_dataset;\").df()\n",
    "cursor.query(\"LOAD IMAGE 'reddit-images/*.jpg' INTO reddit_dataset;\").df()"
   ]
  },
  {
   "cell_type": "markdown",
   "id": "6743684c",
   "metadata": {},
   "source": [
    "### Register a SIFT FeatureExtractor \n",
    "It uses `kornia` library to extract sift features for each image"
   ]
  },
  {
   "cell_type": "code",
   "execution_count": 3,
   "id": "49496e97",
   "metadata": {},
   "outputs": [
    {
     "data": {
      "text/html": [
       "<div>\n",
       "<style scoped>\n",
       "    .dataframe tbody tr th:only-of-type {\n",
       "        vertical-align: middle;\n",
       "    }\n",
       "\n",
       "    .dataframe tbody tr th {\n",
       "        vertical-align: top;\n",
       "    }\n",
       "\n",
       "    .dataframe thead th {\n",
       "        text-align: right;\n",
       "    }\n",
       "</style>\n",
       "<table border=\"1\" class=\"dataframe\">\n",
       "  <thead>\n",
       "    <tr style=\"text-align: right;\">\n",
       "      <th></th>\n",
       "      <th>0</th>\n",
       "    </tr>\n",
       "  </thead>\n",
       "  <tbody>\n",
       "    <tr>\n",
       "      <th>0</th>\n",
       "      <td>Function SiftFeatureExtractor added to the dat...</td>\n",
       "    </tr>\n",
       "  </tbody>\n",
       "</table>\n",
       "</div>"
      ],
      "text/plain": [
       "                                                   0\n",
       "0  Function SiftFeatureExtractor added to the dat..."
      ]
     },
     "execution_count": 3,
     "metadata": {},
     "output_type": "execute_result"
    }
   ],
   "source": [
    "cursor.query(\"DROP FUNCTION IF EXISTS SiftFeatureExtractor;\").df()\n",
    "cursor.query(\"\"\"\n",
    "    CREATE FUNCTION SiftFeatureExtractor\n",
    "    IMPL '../evadb/functions/sift_feature_extractor.py'\n",
    "\"\"\").df()"
   ]
  },
  {
   "cell_type": "code",
   "execution_count": 4,
   "id": "1101ec76",
   "metadata": {},
   "outputs": [],
   "source": [
    "# Keep track of which image gets the most votes\n",
    "from collections import Counter\n",
    "vote = Counter()"
   ]
  },
  {
   "cell_type": "markdown",
   "id": "cc5a1e73",
   "metadata": {
    "execution": {
     "iopub.execute_input": "2023-05-10T04:14:02.011536Z",
     "iopub.status.busy": "2023-05-10T04:14:02.011425Z",
     "iopub.status.idle": "2023-05-10T04:14:02.015115Z",
     "shell.execute_reply": "2023-05-10T04:14:02.014808Z"
    }
   },
   "source": [
    "## Image-level similarity search pipeline. \n",
    "This pipeline creates one vector per image. Next, we should breakdown steps how we build the index and search similar vectors using the index."
   ]
  },
  {
   "cell_type": "code",
   "execution_count": 5,
   "id": "d85e3fa4",
   "metadata": {},
   "outputs": [
    {
     "name": "stderr",
     "output_type": "stream",
     "text": [
      "10-09-2023 21:39:41 WARNING[drop_object_executor:drop_object_executor.py:_handle_drop_index:0113] Index reddit_sift_image_index does not exist, therefore cannot be dropped.\n"
     ]
    },
    {
     "data": {
      "text/html": [
       "<div>\n",
       "<style scoped>\n",
       "    .dataframe tbody tr th:only-of-type {\n",
       "        vertical-align: middle;\n",
       "    }\n",
       "\n",
       "    .dataframe tbody tr th {\n",
       "        vertical-align: top;\n",
       "    }\n",
       "\n",
       "    .dataframe thead th {\n",
       "        text-align: right;\n",
       "    }\n",
       "</style>\n",
       "<table border=\"1\" class=\"dataframe\">\n",
       "  <thead>\n",
       "    <tr style=\"text-align: right;\">\n",
       "      <th></th>\n",
       "      <th>0</th>\n",
       "    </tr>\n",
       "  </thead>\n",
       "  <tbody>\n",
       "    <tr>\n",
       "      <th>0</th>\n",
       "      <td>Index reddit_sift_image_index successfully add...</td>\n",
       "    </tr>\n",
       "  </tbody>\n",
       "</table>\n",
       "</div>"
      ],
      "text/plain": [
       "                                                   0\n",
       "0  Index reddit_sift_image_index successfully add..."
      ]
     },
     "execution_count": 5,
     "metadata": {},
     "output_type": "execute_result"
    }
   ],
   "source": [
    "#1. Create index for the entire image\n",
    "cursor.query(\"\"\"DROP INDEX IF EXISTS reddit_sift_image_index\"\"\").df()\n",
    "cursor.query(\"\"\"\n",
    "    CREATE INDEX reddit_sift_image_index \n",
    "    ON reddit_dataset (SiftFeatureExtractor(data)) \n",
    "    USING FAISS\n",
    "\"\"\").df()"
   ]
  },
  {
   "cell_type": "code",
   "execution_count": null,
   "id": "f54cfe6b",
   "metadata": {},
   "outputs": [],
   "source": [
    "#2. Search similar vectors\n",
    "response = cursor.query(\"\"\"\n",
    "    SELECT name FROM reddit_dataset ORDER BY\n",
    "    Similarity(\n",
    "      SiftFeatureExtractor(Open('reddit-images/g1074_d4mxztt.jpg')),\n",
    "      SiftFeatureExtractor(data)\n",
    "    )\n",
    "    LIMIT 5\n",
    "\"\"\").df()"
   ]
  },
  {
   "cell_type": "code",
   "execution_count": null,
   "id": "68734588",
   "metadata": {},
   "outputs": [],
   "source": [
    "#3. Update votes\n",
    "for i in range(len(response)):\n",
    "    vote[response[\"reddit_dataset.name\"][i]] += 1\n",
    "print(vote)"
   ]
  },
  {
   "cell_type": "markdown",
   "id": "a19a5d51",
   "metadata": {
    "execution": {
     "iopub.execute_input": "2023-05-10T04:14:02.901910Z",
     "iopub.status.busy": "2023-05-10T04:14:02.901809Z",
     "iopub.status.idle": "2023-05-10T04:14:02.903869Z",
     "shell.execute_reply": "2023-05-10T04:14:02.903634Z"
    }
   },
   "source": [
    "## Object-level similarity search pipeline. \n",
    "This pipeline detects objects within images and generates vectors exclusively from the cropped objects. The index is then constructed using these vectors. To showcase the versatility of `evadb`, we leverage `Qdrant` vector store specifically for building this index. This demonstrates how seamlessly you can leverage different vector stores within evadb."
   ]
  },
  {
   "cell_type": "markdown",
   "id": "bce1b7fe",
   "metadata": {},
   "source": [
    "### 1. Extract all the object using `Yolo` from the images"
   ]
  },
  {
   "cell_type": "code",
   "execution_count": null,
   "id": "cefc8b80",
   "metadata": {},
   "outputs": [],
   "source": [
    "cursor.drop_table(\"reddit_object_table\").df()\n",
    "create_index_query = \"\"\"\n",
    "    CREATE TABLE IF NOT EXISTS reddit_object_table\n",
    "    AS SELECT name, data, bboxes, labels FROM reddit_dataset\n",
    "    JOIN LATERAL UNNEST(Yolo(data)) AS Obj(labels, bboxes, scores);\"\"\"\n",
    "cursor.query(create_index_query).df()"
   ]
  },
  {
   "cell_type": "markdown",
   "id": "b356c435",
   "metadata": {},
   "source": [
    "### 2. Build an index on the feature vectors of the extracted objects"
   ]
  },
  {
   "cell_type": "code",
   "execution_count": null,
   "id": "bc0341be",
   "metadata": {},
   "outputs": [],
   "source": [
    "cursor.query(\"\"\"\n",
    "    CREATE INDEX reddit_sift_object_index\n",
    "    ON reddit_object_table (SiftFeatureExtractor(Crop(data, bboxes)))\n",
    "    USING QDRANT\n",
    "\"\"\").df()"
   ]
  },
  {
   "cell_type": "code",
   "execution_count": null,
   "id": "17bfafc6",
   "metadata": {},
   "outputs": [],
   "source": [
    "# Create a cropped images (We are actively working on features to allow\n",
    "# us to not do this outside SQL)\n",
    "response = (\n",
    "    cursor.query(\n",
    "        \"LOAD IMAGE 'reddit-images/g1190_clna260.jpg' INTO reddit_search_image_dataset\"\n",
    "    )\n",
    "    .df()\n",
    ")\n",
    "print(response)\n",
    "response = (\n",
    "    cursor.query(\"SELECT Yolo(data).bboxes FROM reddit_search_image_dataset;\")\n",
    "    .df()\n",
    ")\n",
    "print(response)\n",
    "\n",
    "\n",
    "import cv2\n",
    "import pathlib\n",
    "\n",
    "bboxes = response[\"yolo.bboxes\"][0]\n",
    "\n",
    "img = cv2.imread(\"reddit-images/g1190_clna260.jpg\")\n",
    "pathlib.Path(\"reddit-images/search-object/\").mkdir(parents=True, exist_ok=True)\n",
    "for i, bbox in enumerate(bboxes):\n",
    "    xmin, ymin, xmax, ymax = bbox\n",
    "    xmin, ymin, xmax, ymax = int(xmin), int(ymin), int(xmax), int(ymax)\n",
    "    cropped_img = img[ymin:ymax, xmin:xmax]\n",
    "    cv2.imwrite(f\"reddit-images/search-object/search-{i}.jpg\", cropped_img)\n"
   ]
  },
  {
   "cell_type": "markdown",
   "id": "40e563b2",
   "metadata": {},
   "source": [
    "### 3. Retrieve using object-level similarity search"
   ]
  },
  {
   "cell_type": "code",
   "execution_count": null,
   "id": "f9f29c9c",
   "metadata": {},
   "outputs": [],
   "source": [
    "#4. \n",
    "import os\n",
    "\n",
    "for path in os.listdir(\"reddit-images/search-object/\"):\n",
    "    path = \"reddit-images/search-object/\" + path\n",
    "    query = f\"\"\"SELECT name FROM reddit_object_table ORDER BY\n",
    "                        Similarity(\n",
    "                          SiftFeatureExtractor(Open('{path}')),\n",
    "                          SiftFeatureExtractor(data)\n",
    "                        )\n",
    "                        LIMIT 1\"\"\"\n",
    "    response = cursor.query(query).df()\n",
    "    for i in range(len(response)):\n",
    "        vote[response[\"reddit_object_table.name\"][i]] += 0.5\n",
    "\n",
    "    print(response)"
   ]
  },
  {
   "cell_type": "markdown",
   "id": "096d4970",
   "metadata": {},
   "source": [
    "## Combine the scores from image level and object level similarity to show similar images"
   ]
  },
  {
   "cell_type": "code",
   "execution_count": null,
   "id": "1cc67393",
   "metadata": {},
   "outputs": [],
   "source": [
    "# !pip install matplotlib\n",
    "import matplotlib.pyplot as plt\n",
    "\n",
    "# Display top images\n",
    "vote_list = list(reversed(sorted([(path, count) for path, count in vote.items()], key=lambda x: x[1])))\n",
    "img_list = [path for path, _ in vote_list]\n",
    "\n",
    "fig, ax = plt.subplots(nrows=1, ncols=6, figsize=[18,10])\n",
    "ax[0].imshow(cv2.imread(\"reddit-images/g1190_clna260.jpg\"))\n",
    "ax[0].set_title(\"Search\")\n",
    "\n",
    "for i in range(5):\n",
    "    axi = ax[i + 1]\n",
    "    img = cv2.imread(img_list[i])\n",
    "    axi.imshow(img)\n",
    "    axi.set_title(f\"Top-{i + 1}\")\n",
    "\n",
    "plt.show()"
   ]
  }
 ],
 "metadata": {
  "kernelspec": {
   "display_name": "Python 3 (ipykernel)",
   "language": "python",
   "name": "python3"
  },
  "language_info": {
   "codemirror_mode": {
    "name": "ipython",
    "version": 3
   },
   "file_extension": ".py",
   "mimetype": "text/x-python",
   "name": "python",
   "nbconvert_exporter": "python",
   "pygments_lexer": "ipython3",
   "version": "3.10.12"
  }
 },
 "nbformat": 4,
 "nbformat_minor": 5
}
